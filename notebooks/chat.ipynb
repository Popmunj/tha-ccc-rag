{
 "cells": [
  {
   "cell_type": "code",
   "execution_count": 25,
   "metadata": {},
   "outputs": [],
   "source": [
    "from langgraph.graph.message import add_messages\n",
    "from typing import Annotated\n",
    "from typing_extensions import TypedDict\n",
    "from typing import Literal\n",
    "from langchain_core.documents.base import Document\n",
    "from pydantic import BaseModel, Field\n",
    "from langchain_core.prompts import ChatPromptTemplate\n",
    "from langchain_openai import  ChatOpenAI\n",
    "\n",
    "from langchain_core.output_parsers import StrOutputParser\n",
    "import importlib\n",
    "import sys\n",
    "from langgraph.graph import END, StateGraph, START\n",
    "\n",
    "from IPython.display import Image, display"
   ]
  },
  {
   "cell_type": "code",
   "execution_count": 2,
   "metadata": {},
   "outputs": [],
   "source": [
    "sys.path.append(\"../src/\")\n",
    "from utils import get_retriever, get_llm"
   ]
  },
  {
   "cell_type": "markdown",
   "metadata": {},
   "source": [
    "**State**"
   ]
  },
  {
   "cell_type": "code",
   "execution_count": 3,
   "metadata": {},
   "outputs": [],
   "source": [
    "class State(TypedDict):\n",
    "    messages: Annotated[list, add_messages]\n",
    "    documents: list[Document]"
   ]
  },
  {
   "cell_type": "markdown",
   "metadata": {},
   "source": [
    "**Edges**"
   ]
  },
  {
   "cell_type": "code",
   "execution_count": 12,
   "metadata": {},
   "outputs": [],
   "source": [
    "def grade_answer(state):\n",
    "    messages = state['messages']\n",
    "    question = messages[-2]\n",
    "    answer = messages[-1]\n",
    "\n",
    "    class GradeAnswer(BaseModel):\n",
    "        binary_score: Literal[\"yes\", \"no\"] = Field(description=\"Answer addresses the question, 'yes' or 'no'\")\n",
    "\n",
    "    system = \"\"\"You are a grader assessing whether an answer addresses / resolves a question about Thai laws.\\n\n",
    "    If the answer resolves the question, answer 'yes'. Otherwise, answer 'no'.\n",
    "    \"\"\"\n",
    "    grading_prompt = ChatPromptTemplate.from_messages(\n",
    "        [(\"system\", system),\n",
    "         (\"human\", \"User question:\\n\\n{question}\\n\\nAnswer: {generation}\")]\n",
    "    )\n",
    "    llm = get_llm().with_structured_output(GradeAnswer)\n",
    "    chain = grading_prompt | llm\n",
    "\n",
    "\n",
    "    score = chain.invoke({\n",
    "        \"question\": question,\n",
    "        \"generation\": answer\n",
    "    }).binary_score\n",
    "\n",
    "    return score"
   ]
  },
  {
   "cell_type": "markdown",
   "metadata": {},
   "source": [
    "**Nodes**"
   ]
  },
  {
   "cell_type": "code",
   "execution_count": 13,
   "metadata": {},
   "outputs": [],
   "source": [
    "def transform_query(state):\n",
    "    llm = get_llm()\n",
    "    question = state['messages'][0]\n",
    "\n",
    "    system = \"\"\"You are a Thai legal question rewriter that converts an input to a better version that is optimized\\n\n",
    "    for Thai legal code retrieval. Look at the question and reason about the underlying semantic intent / meaning.\"\"\"\n",
    "    rewriting_prompt = ChatPromptTemplate.from_messages([\n",
    "        (\"system\", system),\n",
    "        (\"human\", \"Initial question\\n\\n{question}\\n\\nFormulate an improved one: \")\n",
    "    ])\n",
    "\n",
    "    chain = rewriting_prompt | llm | StrOutputParser()\n",
    "    res = chain.invoke({\"question\": question})\n",
    "\n",
    "    return {\n",
    "        \"messages\": [res],\n",
    "        \"documents\": state['documents']\n",
    "    }"
   ]
  },
  {
   "cell_type": "code",
   "execution_count": 14,
   "metadata": {},
   "outputs": [],
   "source": [
    "def generate(state):\n",
    "    question = state['messages'][-1]\n",
    "    documents = state['documents']\n",
    "\n",
    "    llm = get_llm()\n",
    "    template = \"\"\"You are an assistant for question-answering tasks about Thai laws.\n",
    "    Use the following pieces of retrieved context to answer the question.\n",
    "    If you don't know the answer, just say that you don't know. Keep the answer concise but comprehensive.\n",
    "    If it is a procedural question, structure the answer as a numbered list.\n",
    "    Keep a friendly, semi-formal tone, refer to yourself as 'ทนายแตน' and use คะ/ค่ะ when neccessary. \n",
    "    \\nQuestion: {question}\n",
    "    \\nContext: {context} \n",
    "    \\nAnswer:\"\"\"\n",
    "\n",
    "    prompt = ChatPromptTemplate.from_template(\n",
    "        template=template,\n",
    "        input_variable=['context', 'question']\n",
    "    )\n",
    "\n",
    "    formatted_docs = \"\\n\\n\".join(doc.page_content for doc in documents)\n",
    "    chain = prompt | llm | StrOutputParser()\n",
    "    generation = chain.invoke({\n",
    "        \"context\": formatted_docs,\n",
    "        \"question\": question\n",
    "    })\n",
    "\n",
    "    return {\n",
    "        \"documents\": state['documents'],\n",
    "        \"messages\": [generation]\n",
    "    }\n",
    "    \n",
    "    "
   ]
  },
  {
   "cell_type": "code",
   "execution_count": 32,
   "metadata": {},
   "outputs": [],
   "source": [
    "def similarity_search(state):\n",
    "   retriever = get_retriever(\"CCC\", from_notebooks=True) # TODO: remove this after testing\n",
    "   question = state['messages'][-1].content\n",
    "\n",
    "   return {\"documents\": retriever.invoke(question, k=3)}"
   ]
  },
  {
   "cell_type": "code",
   "execution_count": 29,
   "metadata": {},
   "outputs": [],
   "source": [
    "workflow = StateGraph(State)\n",
    "\n",
    "workflow.add_node(\"similarity_search\", similarity_search)\n",
    "workflow.add_node(\"transform_query\", transform_query)\n",
    "workflow.add_node(\"generate\", generate)\n",
    "\n",
    "\n",
    "\n",
    "workflow.add_edge(START,\n",
    "                  \"similarity_search\")\n",
    "workflow.add_edge(\"similarity_search\",\n",
    "                  \"generate\")\n",
    "\n",
    "\n",
    "\n",
    "workflow.add_conditional_edges(\"generate\",\n",
    "                               grade_answer,\n",
    "                               {\n",
    "                                   \"yes\": END,\n",
    "                                   \"no\": \"transform_query\"\n",
    "                               }\n",
    "                              )\n",
    "\n",
    "workflow.add_edge(\"transform_query\", \"similarity_search\")\n",
    "app = workflow.compile()"
   ]
  },
  {
   "cell_type": "code",
   "execution_count": 30,
   "metadata": {},
   "outputs": [
    {
     "data": {
      "image/png": "[encoded data removed]",
      "text/plain": [
       "<IPython.core.display.Image object>"
      ]
     },
     "metadata": {},
     "output_type": "display_data"
    }
   ],
   "source": [
    "try:\n",
    "    display(Image(app.get_graph(xray=True).draw_mermaid_png()))\n",
    "except Exception as e:\n",
    "    # This requires some extra dependencies and is optional\n",
    "    print(e)\n",
    "    pass"
   ]
  }
 ],
 "metadata": {
  "kernelspec": {
   "display_name": "env",
   "language": "python",
   "name": "python3"
  },
  "language_info": {
   "codemirror_mode": {
    "name": "ipython",
    "version": 3
   },
   "file_extension": ".py",
   "mimetype": "text/x-python",
   "name": "python",
   "nbconvert_exporter": "python",
   "pygments_lexer": "ipython3",
   "version": "3.13.1"
  }
 },
 "nbformat": 4,
 "nbformat_minor": 2
}
