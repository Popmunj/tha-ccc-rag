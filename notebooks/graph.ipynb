{
 "cells": [
  {
   "cell_type": "code",
   "execution_count": 64,
   "metadata": {},
   "outputs": [],
   "source": [
    "from langchain_openai import OpenAIEmbeddings\n",
    "from langchain_openai import ChatOpenAI\n",
    "from typing_extensions import TypedDict\n",
    "\n",
    "from typing import Literal\n",
    "from langchain import hub\n",
    "from langchain_core.output_parsers import StrOutputParser\n",
    "\n",
    "from langchain_text_splitters import MarkdownHeaderTextSplitter\n",
    "\n",
    "from pydantic import BaseModel, Field\n",
    "from langgraph.graph import END, StateGraph, START\n",
    "from IPython.display import Image, display\n",
    "import pprint\n",
    "\n",
    "from dotenv import load_dotenv\n",
    "load_dotenv()\n",
    "from langchain_chroma import Chroma\n",
    "\n",
    "from langchain_openai import OpenAIEmbeddings, ChatOpenAI\n",
    "from langchain_core.prompts import ChatPromptTemplate\n",
    "from langchain_core.documents.base import Document\n",
    "import os\n"
   ]
  },
  {
   "cell_type": "markdown",
   "metadata": {},
   "source": [
    "**Cached Retriever and LLM**"
   ]
  },
  {
   "cell_type": "code",
   "execution_count": 65,
   "metadata": {},
   "outputs": [],
   "source": [
    "# TODO: update vectorstore\n",
    "def get_retriever(collection_name, md_path=None):\n",
    "    \n",
    "    DB_PATH = \"../chroma_db\"\n",
    "    embeddings = OpenAIEmbeddings(model=\"text-embedding-3-large\")\n",
    "\n",
    "    if os.path.isdir(DB_PATH):\n",
    "        vectorstore = Chroma(\n",
    "            persist_directory=DB_PATH,\n",
    "            embedding_function=embeddings,\n",
    "            collection_name=collection_name\n",
    "        )\n",
    "    else:\n",
    "        with open(md_path, \"r\") as f:\n",
    "            text = f.read()\n",
    "        headers = [\n",
    "            ('#', \"Book\"),\n",
    "            ('##', 'Part'),\n",
    "            ('###', 'Title'),\n",
    "            ('####', 'Chapter'),\n",
    "            ('#####', 'Section')\n",
    "        ]\n",
    "        splitter = MarkdownHeaderTextSplitter(headers_to_split_on=headers,\n",
    "                                            strip_headers=False,)\n",
    "        md_splits = splitter.split_text(text)\n",
    "\n",
    "\n",
    "        vectorstore = Chroma.from_documents(\n",
    "            documents=md_splits,\n",
    "            collection_name=collection_name,\n",
    "            embedding=embeddings,\n",
    "            persist_directory=DB_PATH\n",
    "        )\n",
    "\n",
    "    retriever = vectorstore.as_retriever()\n",
    "    return retriever  # retriever = get_retriever(\"CCC\", md_path= \"../docs/ประมวลกฎหมายแพ่งและพาณิชย์ (ฉบับอัพเดทล่าสุด).md\")"
   ]
  },
  {
   "cell_type": "code",
   "execution_count": 66,
   "metadata": {},
   "outputs": [],
   "source": [
    "def get_llm():\n",
    "    return ChatOpenAI(model=\"gpt-4o\")"
   ]
  },
  {
   "cell_type": "code",
   "execution_count": 67,
   "metadata": {},
   "outputs": [],
   "source": [
    "retriever = get_retriever(\"CCC\", md_path= \"../docs/ประมวลกฎหมายแพ่งและพาณิชย์ (ฉบับอัพเดทล่าสุด).md\")"
   ]
  },
  {
   "cell_type": "markdown",
   "metadata": {},
   "source": [
    "**Edges**"
   ]
  },
  {
   "cell_type": "code",
   "execution_count": 68,
   "metadata": {},
   "outputs": [],
   "source": [
    "def route_query(state) -> Literal[\"similariy_search\", \"metadata_search\"]:\n",
    "    question = state['question']\n",
    "\n",
    "    class RouteQuery(BaseModel):\n",
    "        tool: Literal[\"similarity_search\", \"metadata_search\"] = Field(\n",
    "        description=\"Given a user question, choose to route it to similarity search or metadata search.\")\n",
    "\n",
    "    llm = get_llm().with_structured_output(RouteQuery)\n",
    "\n",
    "    system = \"\"\"You are an expert at routing a user question about Thai laws to a similarity search tool or a metadata search tool.\n",
    "    If the user names a specific number of the following: บรรพ ส่วน ลักษณะ หมวด มาตรา, route it to a metadata search tool. Otherwise, route it to\n",
    "    a similarity search tool.\n",
    "    \"\"\"\n",
    "    routing_prompt = ChatPromptTemplate.from_messages([\n",
    "        (\"system\", system),\n",
    "        (\"human\", \"{question}\")]\n",
    "    )\n",
    "\n",
    "    chain = routing_prompt | llm\n",
    "    tool = chain.invoke({\"question\": question}).tool\n",
    "    \n",
    "    return tool"
   ]
  },
  {
   "cell_type": "code",
   "execution_count": 69,
   "metadata": {},
   "outputs": [],
   "source": [
    "def pre_generate(state) -> Literal[\"transform_query\", \"generate\"]:\n",
    "    filtered = state[\"documents\"]\n",
    "    if not filtered:\n",
    "        return \"transform_query\"\n",
    "    else:\n",
    "        return \"generate\"\n",
    "\n",
    "def grade_answer(state) -> Literal[\"yes\", \"no\"]:\n",
    "    question = state[\"question\"]\n",
    "    answer = state[\"generation\"]\n",
    "\n",
    "    class GradeAnswer(BaseModel):\n",
    "        binary_score: Literal[\"yes\", \"no\"] = Field(description=\"Answer addresses the question, 'yes' or 'no'\")\n",
    "    llm = get_llm().with_structured_output(GradeAnswer)\n",
    "\n",
    "    system = \"\"\"You are a grader assessing whether an answer addresses / resolves a question about Thai laws.\\n\n",
    "    If the answer resolves the question, answer 'yes'. Otherwise, answer 'no'.\n",
    "    \"\"\"\n",
    "    grading_prompt = ChatPromptTemplate.from_messages(\n",
    "        [(\"system\", system),\n",
    "         (\"human\", \"User question:\\n\\n{question}\\n\\nAnswer: {generation}\")]\n",
    "    )\n",
    "    chain = grading_prompt | llm\n",
    "\n",
    "    score = chain.invoke({\n",
    "        \"question\": question,\n",
    "        \"generation\": answer\n",
    "    }).binary_score\n",
    "    return score"
   ]
  },
  {
   "cell_type": "markdown",
   "metadata": {},
   "source": [
    "**Nodes**"
   ]
  },
  {
   "cell_type": "code",
   "execution_count": 70,
   "metadata": {},
   "outputs": [],
   "source": [
    "def grade_documents(state):\n",
    "    class GradeDocuments(BaseModel):\n",
    "        binary_score: str = Field(description=\"Relevance score 'yes' or 'no'\")\n",
    "\n",
    "    llm = get_llm().with_structured_output(GradeDocuments)\n",
    "\n",
    "    system = \"\"\"You are a grader assessing whether a retrieved document is relevant to a user question.\n",
    "    If the document contains keyword(s) or semantic meaning related to the user question, answer 'yes'. Otherwise, answer 'no'.\n",
    "    \"\"\"\n",
    "    grading_prompt = ChatPromptTemplate.from_messages(\n",
    "        [\n",
    "            (\"system\", system),\n",
    "            (\"human\", \"Retrieved document:\\n\\n{document}\\n\\nUser question: {question}\")\n",
    "        ]\n",
    "    )\n",
    "    retrieval_grader = grading_prompt | llm\n",
    "    question = state[\"question\"]\n",
    "    documents = state[\"documents\"]\n",
    "\n",
    "    filtered = []\n",
    "    for doc in documents:\n",
    "        score = retrieval_grader.invoke({\n",
    "            \"question\": question,\n",
    "            \"document\": doc.page_content\n",
    "        })\n",
    "\n",
    "        if score.binary_score == \"yes\":\n",
    "            filtered.append(doc)\n",
    "        else:\n",
    "            continue\n",
    "    return {\"documents\": filtered, \"question\": question}\n"
   ]
  },
  {
   "cell_type": "code",
   "execution_count": 71,
   "metadata": {},
   "outputs": [
    {
     "name": "stderr",
     "output_type": "stream",
     "text": [
      "<>:8: SyntaxWarning: invalid escape sequence '\\F'\n",
      "<>:8: SyntaxWarning: invalid escape sequence '\\F'\n",
      "/var/folders/cc/rnt3w6p15_9bhmg17qtpnjlw0000gn/T/ipykernel_74916/860843229.py:8: SyntaxWarning: invalid escape sequence '\\F'\n",
      "  (\"human\", \"Initial question\\n\\n{question}\\n\\n\\Formulate an improved one.\")\n"
     ]
    }
   ],
   "source": [
    "def transform_query(state):\n",
    "    llm = get_llm()\n",
    "\n",
    "    system = \"\"\"You are a Thai legal question rewriter that converts an input to a better version that is optimized\\n\n",
    "    for Thai legal code retrieval. Look at the question and reason about the underlying semantic intent / meaning.\"\"\"\n",
    "    rewriting_prompt = ChatPromptTemplate.from_messages([\n",
    "        (\"system\", system),\n",
    "        (\"human\", \"Initial question\\n\\n{question}\\n\\n\\Formulate an improved one.\")\n",
    "    ])\n",
    "    chain = rewriting_prompt | llm | StrOutputParser()\n",
    "    res = chain.invoke({\n",
    "        \"question\": state['question']\n",
    "    })\n",
    "    return {\n",
    "        \"documents\": state['documents'],\n",
    "        \"question\": res\n",
    "    }"
   ]
  },
  {
   "cell_type": "code",
   "execution_count": 72,
   "metadata": {},
   "outputs": [],
   "source": [
    "def generate(state):\n",
    "    question = state['question']\n",
    "    documents = state['documents']\n",
    "\n",
    "    llm = get_llm()\n",
    "    template = \"\"\"You are an assistant for question-answering tasks about Thai laws.\n",
    "    Use the following pieces of retrieved context to answer the question.\n",
    "    If you don't know the answer, just say that you don't know. Keep the answer concise but comprehensive.\n",
    "    If it is a procedural question, structure the answer as a numbered list.\n",
    "    Keep a friendly, semi-formal tone, refer to yourself as 'ทนายแตน' and use คะ/ค่ะ when neccessary. \n",
    "    \\nQuestion: {question}\n",
    "    \\nContext: {context} \n",
    "    \\nAnswer:\"\"\"\n",
    "\n",
    "    prompt = ChatPromptTemplate.from_template(template=template,\n",
    "                               input_variable=['context', 'question'])\n",
    "\n",
    "\n",
    "    formatted_docs = \"\\n\\n\".join(doc.page_content for doc in documents)\n",
    "\n",
    "    chain = prompt | llm | StrOutputParser()\n",
    "    generation = chain.invoke({\n",
    "        \"context\": formatted_docs,\n",
    "        \"question\": question\n",
    "    })\n",
    "\n",
    "    return {\n",
    "        \"documents\": documents,\n",
    "        \"question\": question,\n",
    "        \"generation\": generation\n",
    "    }"
   ]
  },
  {
   "cell_type": "code",
   "execution_count": 73,
   "metadata": {},
   "outputs": [],
   "source": [
    "# Tools\n",
    "\n",
    "def similarity_search(state):\n",
    "    retriever = get_retriever(\"CCC\")\n",
    "    question = state[\"question\"]\n",
    "\n",
    "    return {\"documents\": retriever.invoke(question, k=3), \"question\": question}\n",
    "\n",
    "def metadata_search(state): \n",
    "    question = state[\"question\"]\n",
    "    class MetadataQuery(BaseModel):\n",
    "        Section: str | None= Field(description=\"มาตรา\")\n",
    "    llm = get_llm().with_structured_output(MetadataQuery)\n",
    "\n",
    "    system = \"\"\"You are a Thai legal metadata search tool that uses\\n\n",
    "    a user input to generate a metadata filter on มาตรา (Section).\\n\n",
    "    \n",
    "    Example query: มาตราที่ 5 เกี่ยวกับอะไร \n",
    "    Expected output: {{\"Section\": \"มาตรา 5\"}}\n",
    "    \"\"\"\n",
    "    filtering_prompt = ChatPromptTemplate.from_messages([\n",
    "        (\"system\", system),\n",
    "        (\"human\", \"User input:\\n\\n{question}\\n\\nFormulate a dictionary.\")\n",
    "    ])\n",
    "    chain = filtering_prompt | llm\n",
    "    outputs = chain.invoke({\n",
    "        \"question\": question\n",
    "    })\n",
    "\n",
    "    retriever = get_retriever(\"CCC\")\n",
    "    documents = retriever.invoke(question, filter=outputs.dict())\n",
    "\n",
    "    return {\"documents\": documents, \"question\": question}\n",
    "    "
   ]
  },
  {
   "cell_type": "markdown",
   "metadata": {},
   "source": [
    "**Graph**"
   ]
  },
  {
   "cell_type": "code",
   "execution_count": 74,
   "metadata": {},
   "outputs": [],
   "source": [
    "class GraphState(TypedDict):\n",
    "    question:str\n",
    "    generation:str\n",
    "    documents: list[Document]"
   ]
  },
  {
   "cell_type": "code",
   "execution_count": 75,
   "metadata": {},
   "outputs": [],
   "source": [
    "workflow = StateGraph(GraphState)\n",
    "\n",
    "workflow.add_node(\"similarity_search\", similarity_search)\n",
    "workflow.add_node(\"metadata_search\", metadata_search)\n",
    "workflow.add_node(\"transform_query\", transform_query)\n",
    "workflow.add_node(\"generate\", generate)\n",
    "\n",
    "workflow.add_conditional_edges(\n",
    "    START,\n",
    "    route_query,\n",
    "    {\n",
    "        \"similarity_search\": \"similarity_search\",\n",
    "        \"metadata_search\": \"metadata_search\",\n",
    "    }\n",
    "\n",
    ")\n",
    "workflow.add_conditional_edges(\"metadata_search\", pre_generate, \n",
    "                               {\"transform_query\": \"transform_query\",\n",
    "                                \"generate\": \"generate\"})\n",
    "workflow.add_conditional_edges(\"similarity_search\", pre_generate,\n",
    "                               {\"transform_query\": \"transform_query\",\n",
    "                                \"generate\": \"generate\"})\n",
    "workflow.add_edge(\"transform_query\", \"similarity_search\")\n",
    "workflow.add_conditional_edges(\n",
    "    \"generate\",\n",
    "    grade_answer,\n",
    "    {\n",
    "        \"yes\": END,\n",
    "        \"no\": \"transform_query\"\n",
    "    }\n",
    ")\n",
    "\n",
    "app = workflow.compile()\n"
   ]
  },
  {
   "cell_type": "code",
   "execution_count": 76,
   "metadata": {},
   "outputs": [
    {
     "name": "stderr",
     "output_type": "stream",
     "text": [
      "<unknown>:8: SyntaxWarning: invalid escape sequence '\\F'\n"
     ]
    },
    {
     "data": {
      "image/png": "[encoded data removed]",
      "text/plain": [
       "<IPython.core.display.Image object>"
      ]
     },
     "metadata": {},
     "output_type": "display_data"
    }
   ],
   "source": [
    "try:\n",
    "    display(Image(app.get_graph(xray=True).draw_mermaid_png()))\n",
    "except Exception:\n",
    "    # This requires some extra dependencies and is optional\n",
    "    pass"
   ]
  },
  {
   "cell_type": "code",
   "execution_count": 77,
   "metadata": {},
   "outputs": [],
   "source": [
    "def call(question):\n",
    "\n",
    "    for output in app.stream({\"question\": question}):\n",
    "        for k,v in output.items():\n",
    "            pprint.pprint(f\"Output from node '{k}'\")\n",
    "            pprint.pprint(v, indent=2, width=80, depth=None)\n",
    "        pprint.pprint(\"---\")"
   ]
  },
  {
   "cell_type": "code",
   "execution_count": 78,
   "metadata": {},
   "outputs": [
    {
     "data": {
      "text/plain": [
       "{'question': 'ถ้าผู้เช่าห้องทําห้องเสียหาย สามารถเอาผิดได้อย่างไร',\n",
       " 'generation': 'ถ้าผู้เช่าห้องทำห้องเสียหาย เจ้าของห้องสามารถดำเนินการตามกฎหมายได้ตามขั้นตอนดังนี้ค่ะ:\\n\\n1. **แจ้งเตือนผู้เช่า**: หากทราบว่าผู้เช่าได้ทำให้ทรัพย์สินเสียหาย ควรแจ้งเตือนผู้เช่าให้ทราบถึงความเสียหายและขอให้ซ่อมแซมหรือชดใช้ค่าเสียหายตามที่เหมาะสมค่ะ\\n\\n2. **ตรวจสอบสัญญาเช่า**: ตรวจสอบสัญญาเช่าเพื่อดูว่ามีเงื่อนไขหรือข้อกำหนดที่เกี่ยวข้องกับความเสียหายหรือการซ่อมแซมอย่างไรบ้าง ถ้ามีระบุในสัญญา ผู้ให้เช่าสามารถใช้ประโยชน์จากข้อตกลงนั้นได้ค่ะ\\n\\n3. **เรียกร้องค่าเสียหาย**: หากผู้เช่าไม่ยอมซ่อมแซมหรือชดใช้ค่าเสียหาย ผู้ให้เช่าสามารถเรียกร้องค่าเสียหายได้ตามมาตรา 557 โดยการฟ้องร้องต่อศาลค่ะ\\n\\n4. **เก็บหลักฐาน**: ควรเก็บหลักฐานที่เกี่ยวข้อง เช่น ภาพถ่ายของความเสียหาย ใบเสนอราคาการซ่อมแซม เอกสารสัญญาเช่า และการสนทนากับผู้เช่าเพื่อใช้เป็นหลักฐานในกรณีที่ต้องดำเนินการทางกฎหมายค่ะ\\n\\nทนายแตนหวังว่าข้อมูลนี้จะช่วยให้คุณเข้าใจขั้นตอนในการดำเนินการได้มากขึ้นนะคะ 😊',\n",
       " 'documents': [Document(metadata={'Book': 'บรรพ 3 เอกเทศสัญญา', 'Chapter': 'หมวด 3 หน้าที่และความรับผิดของผู้เช่า', 'Part': 'ส่วนที่ 3 ขายทอดตลาด', 'Section': 'มาตรา 557', 'Title': 'ลักษณะ 4 เช่าทรัพย์'}, page_content='##### มาตรา 557  \\nในกรณีอย่างใดๆ ดังจะกล่าวต่อไปนี้ คือ\\n(1) ถ้ำทรัพย์สินที่เช่านั้นชำรุดควรที่ผู้ให้เช่าจะต้องซ่อมแซมก็ดี\\n(2) ถ้ำจะต้องจัดการอย่างหนึ่งอย่างใดเพื่อป้องกันภัยอันตรายแก่ทรัพย์สินนั้นก็ดี\\n(3) ถ้ำบุคคลภายนอกรุกล้ำเข้ามาในทรัพย์สินที่เช่าหรือเรียกร้องสิทธิอย่างหนึ่งอย่าง\\nหนึ่งเหนือทรัพย์สินนั้นก็ดี\\nในเหตุการณ์นั้นให้ผู้เช่าแจ้งเหตุแก่ผู้ให้เช่าโดยพลัน เว้นแต่ผู้ให้เช่าจะได้ทราบเหตุ\\nนั้นอยู่ก่อนแล้ว\\nถ้ำผู้เช่าละเลยเสียไม่ปฏิบัติตามบทบัญญัตินี้ไซร้ ท่านว่าผู้เช่าจะต้องรับผิดต่อผู้ให้\\nเช่าในเมื่อผู้ให้เช่าต้องเสียหายอย่างใดๆ เพราะความละเลยชักช้าของผู้เช่านั้น'),\n",
       "  Document(metadata={'Book': 'บรรพ 3 เอกเทศสัญญา', 'Chapter': 'หมวด 1 บทเบ็ดเสร็จทั่วไป', 'Part': 'ส่วนที่ 3 ขายทอดตลาด', 'Section': 'มาตรา 538', 'Title': 'ลักษณะ 4 เช่าทรัพย์'}, page_content='##### มาตรา 538  \\nเช่าอสังหาริมทรัพย์นั้น ถ้ามิได้มีหลักฐานเป็นหนังสืออย่างใดอย่าง\\nหนึ่งลงลายมือชื่อฝ่ายที่ต้องรับผิดเป็นสำคัญ ท่านว่าจะฟ้องร้องให้บังคับคดีหาได้ไม่ ถ้าเช่ามีกำหนดกว่า\\nสามปีขึ้นไป หรือกำหนดตลอดอายุของผู้เช่าหรือผู้ให้เช่าไซร้ หากมิได้ทำเป็นหนังสือและจดทะเบียน\\nต่อพนักงานเจ้าหน้าที่ ท่านว่าการเช่านั้นจะฟ้องร้องให้บังคับคดีได้แต่เพียงสามปี'),\n",
       "  Document(metadata={'Book': 'บรรพ 2 หนี้', 'Chapter': 'หมวด 1 ความรับผิดเพื่อละเมิด', 'Part': 'ส่วนที่ 5 หนี้เกลื่อนกลืนกัน', 'Section': 'มาตรา 436', 'Title': 'ลักษณะ 5 ละเมิด'}, page_content='##### มาตรา 436  \\nบุคคลผู้อยู่ในโรงเรือนต้องรับผิดชอบในความเสียหายอันเกิดเพราะ\\nของตกหล่นจากโรงเรือนนั้น หรือเพราะทิ้งขว้างของไปตกในที่อันมิควร')]}"
      ]
     },
     "execution_count": 78,
     "metadata": {},
     "output_type": "execute_result"
    }
   ],
   "source": [
    "app.invoke({\"question\": \"ถ้าผู้เช่าห้องทําห้องเสียหาย สามารถเอาผิดได้อย่างไร\"})"
   ]
  }
 ],
 "metadata": {
  "kernelspec": {
   "display_name": "env",
   "language": "python",
   "name": "python3"
  },
  "language_info": {
   "codemirror_mode": {
    "name": "ipython",
    "version": 3
   },
   "file_extension": ".py",
   "mimetype": "text/x-python",
   "name": "python",
   "nbconvert_exporter": "python",
   "pygments_lexer": "ipython3",
   "version": "3.13.1"
  }
 },
 "nbformat": 4,
 "nbformat_minor": 2
}
