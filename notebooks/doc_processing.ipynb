{
 "cells": [
  {
   "cell_type": "code",
   "execution_count": 1,
   "metadata": {},
   "outputs": [
    {
     "name": "stderr",
     "output_type": "stream",
     "text": [
      "/Users/pop/Desktop/DS/Projects/leg-tech/env/lib/python3.13/site-packages/tqdm/auto.py:21: TqdmWarning: IProgress not found. Please update jupyter and ipywidgets. See https://ipywidgets.readthedocs.io/en/stable/user_install.html\n",
      "  from .autonotebook import tqdm as notebook_tqdm\n"
     ]
    },
    {
     "data": {
      "text/plain": [
       "True"
      ]
     },
     "execution_count": 1,
     "metadata": {},
     "output_type": "execute_result"
    }
   ],
   "source": [
    "import os\n",
    "import pymupdf as pymu\n",
    "import re\n",
    "import unicodedata \n",
    "import requests\n",
    "from dotenv import load_dotenv\n",
    "import google.generativeai as genai\n",
    "load_dotenv()"
   ]
  },
  {
   "cell_type": "code",
   "execution_count": 2,
   "metadata": {},
   "outputs": [],
   "source": [
    "from typing import Annotated\n",
    "from typing_extensions import TypedDict\n",
    "from langgraph.graph import StateGraph, START, END\n",
    "from langgraph.graph.message import add_messages\n",
    "from langchain_openai import ChatOpenAI\n",
    "from langchain_google_genai import ChatGoogleGenerativeAI\n",
    "from langchain_core.prompts import PromptTemplate\n",
    "from IPython.display import Image, display\n",
    "\n",
    "from langchain_community.vectorstores import Chroma\n",
    "from langchain_text_splitters import RecursiveCharacterTextSplitter, MarkdownHeaderTextSplitter\n",
    "from langchain_core.prompts.few_shot import FewShotPromptTemplate\n",
    "import pandas as pd\n"
   ]
  },
  {
   "cell_type": "code",
   "execution_count": 3,
   "metadata": {},
   "outputs": [],
   "source": [
    "\n",
    "def process(page):\n",
    "    # watermark\n",
    "    watermark = r\"ส ำนักงำนคณะกรรมกำรกฤษฎีกำ\"\n",
    "    watermark2 = r\"สำนักงานคณะกรรมการกฤษฎีกา\"\n",
    "    try: \n",
    "        text = unicodedata.normalize(\"NFC\", page.get_text())\n",
    "    except:\n",
    "        print(\"Processing text\")\n",
    "        text = page\n",
    "    text = re.sub(watermark, \"\", text).strip()\n",
    "    text = re.sub(watermark2, \"\", text).strip()\n",
    "\n",
    "    # numbers\n",
    "    thai_to_arabic = {\n",
    "    \"๐\": \"0\",\n",
    "    \"๑\": \"1\",\n",
    "    \"๒\": \"2\",\n",
    "    \"๓\": \"3\",\n",
    "    \"๔\": \"4\",\n",
    "    \"๕\": \"5\",\n",
    "    \"๖\": \"6\",\n",
    "    \"๗\": \"7\",\n",
    "    \"๘\": \"8\",\n",
    "    \"๙\": \"9\"\n",
    "    }\n",
    "    for k in thai_to_arabic.keys():\n",
    "        text = re.sub(k, thai_to_arabic[k], text)\n",
    "\n",
    "    # ignore page num for now\n",
    "    text = re.sub(r\"- (\\d+) -\", \"\", text)\n",
    "    text = re.sub(r\"^[^\\u0E00-\\u0E7F]*\", \"\", text)\n",
    "\n",
    "    # แพ่งพาณิชย์\n",
    "    for m in re.finditer(r\"มำตรำ (\\d+)  \", text):\n",
    "        text = re.sub(m.group(), f\"##### มาตรา {m.group(1)}  \\n\", text)\n",
    "\n",
    "    # the other one\n",
    "    for m in re.finditer(r\"มาตรา (\\d+)  \", text):\n",
    "        text = re.sub(m.group(), f\"##### มาตรา {m.group(1)}  \\n\", text)    \n",
    "    \n",
    "\n",
    "\n",
    "    return text"
   ]
  },
  {
   "cell_type": "code",
   "execution_count": 4,
   "metadata": {},
   "outputs": [],
   "source": [
    "llm = ChatGoogleGenerativeAI(\n",
    "        model=\"gemini-1.5-flash\",\n",
    "        temperature=0,\n",
    "        max_tokens=None,\n",
    "        timeout=None,\n",
    "        max_retries=2,\n",
    "    )\n",
    "\n",
    "\n",
    "def correct(body):\n",
    "    prompt = \"\"\"\n",
    "    Below is a Thai text. Follow the instructions and the example.\n",
    "    1. Correct mispellings from encoding errors.\n",
    "    Do not do anything else. Do not remove #'s.\n",
    "\n",
    "    {text}\n",
    "    \"\"\"\n",
    "    prompt_template = PromptTemplate.from_template(prompt)\n",
    "\n",
    "    chain = prompt_template | llm\n",
    "    return chain.invoke(body).content"
   ]
  },
  {
   "cell_type": "code",
   "execution_count": 5,
   "metadata": {},
   "outputs": [],
   "source": [
    "def batch_correct(PATH, corr=True):\n",
    "    pdf = pymu.open(PATH)\n",
    "\n",
    "    BATCH_SIZE = 5\n",
    "    texts = \"\"\n",
    "    with open(PATH.replace(\".pdf\", \".md\"), \"a\", encoding=\"utf-8\") as f:\n",
    "        for i, page in enumerate(pdf):\n",
    "            text = process(page)\n",
    "            texts += text + \"\\n\\n\"\n",
    "            \n",
    "            if (i+1)%BATCH_SIZE == 0:\n",
    "                if corr:\n",
    "                    f.write(correct(texts) + \"\\n\\n\")\n",
    "                else:\n",
    "                    f.write(texts + \"\\n\\n\")\n",
    "                texts = \"\"\n",
    "        \n",
    "        if texts.strip():\n",
    "            if corr:\n",
    "                f.write(correct(texts) + \"\\n\\n\")\n",
    "            else:\n",
    "                f.write(texts + \"\\n\\n\")"
   ]
  },
  {
   "cell_type": "code",
   "execution_count": 6,
   "metadata": {},
   "outputs": [],
   "source": [
    "def format_md(PATH):\n",
    "    with open(PATH, \"r\") as f:\n",
    "        text = f.read()\n",
    "\n",
    "    dt = {\n",
    "        r\"บรรพ\": \"# บรรพ\",\n",
    "        r\"ส่วนที่\": \"## ส่วนที่\",\n",
    "        r\"ลักษณะ\": \"### ลักษณะ\",\n",
    "        r\"หมวด\": \"#### หมวด\"\n",
    "    }\n",
    "\n",
    "    for k, v in dt.items():\n",
    "        p = r\"\\n\\s*\\n\" + k + r\" (\\d+)\\s*\\n([\\u0E00-\\u0E7F\\s]*)\\s*\\n\"\n",
    "        for m in re.finditer(p, text):\n",
    "            text = re.sub(m.group(), f\"\\n \\n{v} {m.group(1)} {m.group(2).replace(\"\\n\", \" \")} \\n\\n\", text)\n",
    "\n",
    "\n",
    "    with open(PATH.replace(\"data\", \"docs\"), \"w\", encoding=\"utf-8\") as f:\n",
    "        f.write(text)\n",
    "    "
   ]
  },
  {
   "cell_type": "code",
   "execution_count": 12,
   "metadata": {},
   "outputs": [],
   "source": [
    "PATH = \"../data/ประมวลกฎหมายแพ่งและพาณิชย์ (ฉบับอัพเดทล่าสุด).pdf\"\n",
    "# batch_correct(PATH)\n",
    "format_md(\"../data/ประมวลกฎหมายแพ่งและพาณิชย์ (ฉบับอัพเดทล่าสุด).md\")"
   ]
  },
  {
   "cell_type": "code",
   "execution_count": 7,
   "metadata": {},
   "outputs": [],
   "source": [
    "PATH = '../data/สำนักงานคณะกรรมการกฤษฎีกา.pdf'\n",
    "batch_correct(PATH, corr=False)\n",
    "format_md('../data/สำนักงานคณะกรรมการกฤษฎีกา.md')"
   ]
  },
  {
   "cell_type": "markdown",
   "metadata": {},
   "source": [
    "**DB**"
   ]
  },
  {
   "cell_type": "code",
   "execution_count": 4,
   "metadata": {},
   "outputs": [],
   "source": [
    "import sys\n",
    "import chromadb\n",
    "sys.path.append(\"../src/\")\n",
    "from utils import get_retriever"
   ]
  },
  {
   "cell_type": "code",
   "execution_count": 5,
   "metadata": {},
   "outputs": [
    {
     "name": "stderr",
     "output_type": "stream",
     "text": [
      "\u001b[32m2025-01-25 07:30:31.673\u001b[0m | \u001b[1mINFO    \u001b[0m | \u001b[36mutils\u001b[0m:\u001b[36mget_retriever\u001b[0m:\u001b[36m21\u001b[0m - \u001b[1mCreating database\u001b[0m\n"
     ]
    }
   ],
   "source": [
    "PATH = \"../docs/สำนักงานคณะกรรมการกฤษฎีกา.md\"\n",
    "rt = get_retriever(collection_name=\"CPC\", md_path=PATH)"
   ]
  },
  {
   "cell_type": "code",
   "execution_count": 7,
   "metadata": {},
   "outputs": [
    {
     "data": {
      "text/plain": [
       "[Collection(name=CCC), Collection(name=CPC)]"
      ]
     },
     "execution_count": 7,
     "metadata": {},
     "output_type": "execute_result"
    }
   ],
   "source": [
    "client = chromadb.PersistentClient(\"../chroma_db/\")\n",
    "client.list_collections()"
   ]
  }
 ],
 "metadata": {
  "kernelspec": {
   "display_name": "env",
   "language": "python",
   "name": "python3"
  },
  "language_info": {
   "codemirror_mode": {
    "name": "ipython",
    "version": 3
   },
   "file_extension": ".py",
   "mimetype": "text/x-python",
   "name": "python",
   "nbconvert_exporter": "python",
   "pygments_lexer": "ipython3",
   "version": "3.13.1"
  }
 },
 "nbformat": 4,
 "nbformat_minor": 2
}
